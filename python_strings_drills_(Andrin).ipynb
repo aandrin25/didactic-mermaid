{
  "nbformat": 4,
  "nbformat_minor": 0,
  "metadata": {
    "kernelspec": {
      "display_name": "Python 3",
      "language": "python",
      "name": "python3"
    },
    "language_info": {
      "codemirror_mode": {
        "name": "ipython",
        "version": 3
      },
      "file_extension": ".py",
      "mimetype": "text/x-python",
      "name": "python",
      "nbconvert_exporter": "python",
      "pygments_lexer": "ipython3",
      "version": "3.7.0"
    },
    "colab": {
      "name": "python_strings_drills (Andrin)",
      "provenance": [],
      "include_colab_link": true
    }
  },
  "cells": [
    {
      "cell_type": "markdown",
      "metadata": {
        "id": "view-in-github",
        "colab_type": "text"
      },
      "source": [
        "<a href=\"https://colab.research.google.com/github/aandrin25/didactic-mermaid/blob/master/python_strings_drills_(Andrin).ipynb\" target=\"_parent\"><img src=\"https://colab.research.google.com/assets/colab-badge.svg\" alt=\"Open In Colab\"/></a>"
      ]
    },
    {
      "cell_type": "markdown",
      "metadata": {
        "id": "M8xBM9KquCZo",
        "colab_type": "text"
      },
      "source": [
        "## 1: Hello world\n",
        "\n",
        "Create a function called `hello` that takes one argument (`person`, a string) and returns a string saying hello to that person. The result should be formatted so that when you call the function like this:\n",
        "\n",
        "```python\n",
        "hello('Moon')\n",
        "```\n",
        "\n",
        "you return a string that looks like this:\n",
        "\n",
        "```python\n",
        "'Hello, Moon'\n",
        "```"
      ]
    },
    {
      "cell_type": "code",
      "metadata": {
        "id": "gchL_gdQuCZp",
        "colab_type": "code",
        "colab": {
          "base_uri": "https://localhost:8080/",
          "height": 34
        },
        "outputId": "7814e381-b498-444c-b9a7-915b1762fbb0"
      },
      "source": [
        "# your code here\n",
        "hello = 'Hello, {}'.format('Moon')\n",
        "\n",
        "print(hello)"
      ],
      "execution_count": 4,
      "outputs": [
        {
          "output_type": "stream",
          "text": [
            "Hello, Moon\n"
          ],
          "name": "stdout"
        }
      ]
    },
    {
      "cell_type": "markdown",
      "metadata": {
        "id": "zqu5T_jpuCZt",
        "colab_type": "text"
      },
      "source": [
        "<br>\n",
        "\n",
        "## 2: Quotable\n",
        "\n",
        "1. [Quotable](https://www.codewars.com/kata/thinkful-string-drills-quotable/)\n",
        "\n",
        "Create a function called `quotable` that takes a person's name as a parameter called `name` and a quote of theirs as a parameter called `quote`, and return a string attributing the quote to the person in the following format:\n",
        "\n",
        "```\n",
        "'[name] said: \"[quote]\"'\n",
        "```\n",
        "\n",
        "For example, if name is 'Grae' and 'quote' is 'Practice makes perfect' then your function should return the string\n",
        "\n",
        "'Grae said: \"Practice makes perfect\"'\n",
        "Unfortunately, something is wrong with the instructions in the function body. Your job is to fix it so the function returns correctly formatted quotes.\n",
        "\n",
        "Be careful with your quotation marks!"
      ]
    },
    {
      "cell_type": "code",
      "metadata": {
        "id": "vtsAFNn993JA",
        "colab_type": "code",
        "colab": {
          "base_uri": "https://localhost:8080/",
          "height": 34
        },
        "outputId": "754d5d3e-1248-41a7-fbe3-4e7233eef231"
      },
      "source": [
        "def quotable(name, quote):\n",
        "    return name + ' ' + 'said:' + ' ' + quote\n",
        "\n",
        "    quotable('Grae', 'Practice makes perfect')\n",
        "\n",
        "print(quotable('Grae', 'Practice makes perfect'))"
      ],
      "execution_count": 9,
      "outputs": [
        {
          "output_type": "stream",
          "text": [
            "Grae said: Practice makes perfect\n"
          ],
          "name": "stdout"
        }
      ]
    },
    {
      "cell_type": "markdown",
      "metadata": {
        "id": "xIBBDPfWuCZt",
        "colab_type": "text"
      },
      "source": [
        "## 3: Jedi name\n",
        "\n",
        "You just took a contract with the Jedi council. They need you to write a function, greet_jedi(), which takes two arguments (a first name and a last name), works out the corresponding Jedi name, and returns a string greeting the Jedi.\n",
        "\n",
        "A person's Jedi name is the first three letters of their last name followed by the first two letters of their first name. For example:\n",
        "\n",
        "```\n",
        ">>> greet_jedi('Beyonce', 'Knowles')\n",
        "'Greetings, master KnoBe'\n",
        "```\n",
        "\n",
        "Note the capitalization: the first letter of each name is capitalized. Your input may or may not be capitalized. Your function should handle it and return the Jedi name in the correct case no matter what case the input is in:\n",
        "\n",
        "```\n",
        ">>> greet_jedi('grae', 'drake')\n",
        "'Greetings, master DraGr'\n",
        "```"
      ]
    },
    {
      "cell_type": "code",
      "metadata": {
        "colab_type": "code",
        "id": "AbeXNEeBFJDf",
        "colab": {
          "base_uri": "https://localhost:8080/",
          "height": 34
        },
        "outputId": "b3cf4d54-d860-4bc9-cbca-bb0281fc36cf"
      },
      "source": [
        "def greet_jedi (str):\n",
        "  jedi_name = 'Andrin'[0:3] + 'Averya'[0:2]\n",
        "  return 'Greetings, master {}'.format(jedi_name)\n",
        "\n",
        "print(greet_jedi)"
      ],
      "execution_count": 19,
      "outputs": [
        {
          "output_type": "stream",
          "text": [
            "<function greet_jedi at 0x7fc84f1418c8>\n"
          ],
          "name": "stdout"
        }
      ]
    },
    {
      "cell_type": "markdown",
      "metadata": {
        "id": "CG4K2y36uCZu",
        "colab_type": "text"
      },
      "source": [
        "## 4: Poem formatter\n",
        "\n",
        "You have a collection of lovely poems. Unfortuantely they aren't formatted very well. They're all on one line, like this:\n",
        "\n",
        "```\n",
        "Beautiful is better than ugly. Explicit is better than implicit. Simple is better than complex. Complex is better than complicated.\n",
        "```\n",
        "\n",
        "What you want is to present each sentence on a new line, so that it looks like this:\n",
        "\n",
        "```\n",
        "Beautiful is better than ugly.\n",
        "Explicit is better than implicit.\n",
        "Simple is better than complex.\n",
        "Complex is better than complicated.\n",
        "```\n",
        "\n",
        "Write a function called `format_poem` that takes a string like the one-line example as an argument and returns a new string that is formatted across multiple lines with each new sentence starting on a new line when you print it out.\n",
        "\n",
        "Hint: You may find the `str.split()` and the `str.join()` string methods to be helpful.\n",
        "\n",
        "Every sentence will end with a period, and every new sentence will have one space before the previous period. Be careful about trailing whitespace in your solution."
      ]
    },
    {
      "cell_type": "code",
      "metadata": {
        "id": "-jkoBhy4uCZu",
        "colab_type": "code",
        "colab": {
          "base_uri": "https://localhost:8080/",
          "height": 150
        },
        "outputId": "0ccdded9-f47c-45dd-f401-d2ea9d81a5ac"
      },
      "source": [
        "# your code here\n",
        "poem = 'Beautiful is better than ugly.' \\n 'Explicit is better than implicit. /nSimple is better than complex. /nComplex is better than complicated.'\n",
        "\n",
        "\n",
        "print(poem)"
      ],
      "execution_count": 23,
      "outputs": [
        {
          "output_type": "error",
          "ename": "SyntaxError",
          "evalue": "ignored",
          "traceback": [
            "\u001b[0;36m  File \u001b[0;32m\"<ipython-input-24-b0a2ee19d14f>\"\u001b[0;36m, line \u001b[0;32m1\u001b[0m\n\u001b[0;31m    poem = 'Beautiful is better than ugly.' \\n 'Explicit is better than implicit. /nSimple is better than complex. /nComplex is better than complicated.'\u001b[0m\n\u001b[0m                                                                                                                                                         ^\u001b[0m\n\u001b[0;31mSyntaxError\u001b[0m\u001b[0;31m:\u001b[0m unexpected character after line continuation character\n"
          ]
        }
      ]
    }
  ]
}