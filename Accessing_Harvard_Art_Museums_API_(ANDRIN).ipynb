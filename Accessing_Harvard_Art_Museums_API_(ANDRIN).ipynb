{
  "nbformat": 4,
  "nbformat_minor": 0,
  "metadata": {
    "colab": {
      "name": "Accessing Harvard Art Museums API (ANDRIN)",
      "provenance": [],
      "authorship_tag": "ABX9TyO52Dyl1vjrR2Ptpqdp4aAc",
      "include_colab_link": true
    },
    "kernelspec": {
      "name": "python3",
      "display_name": "Python 3"
    }
  },
  "cells": [
    {
      "cell_type": "markdown",
      "metadata": {
        "id": "view-in-github",
        "colab_type": "text"
      },
      "source": [
        "<a href=\"https://colab.research.google.com/github/aandrin25/didactic-mermaid/blob/master/Accessing_Harvard_Art_Museums_API_(ANDRIN).ipynb\" target=\"_parent\"><img src=\"https://colab.research.google.com/assets/colab-badge.svg\" alt=\"Open In Colab\"/></a>"
      ]
    },
    {
      "cell_type": "code",
      "metadata": {
        "id": "UxFFco6ZuFfy",
        "colab_type": "code",
        "colab": {}
      },
      "source": [
        "import requests"
      ],
      "execution_count": 0,
      "outputs": []
    },
    {
      "cell_type": "code",
      "metadata": {
        "id": "T4OhUnheuXKF",
        "colab_type": "code",
        "colab": {}
      },
      "source": [
        "url = 'https://api.harvardartmuseums.org/object'\n",
        "\n",
        "api_key = {'apikey' : 'af38a5b0-7f83-11ea-ad66-f134bf9c05fa'}"
      ],
      "execution_count": 0,
      "outputs": []
    },
    {
      "cell_type": "code",
      "metadata": {
        "id": "M1jjnceyvVaU",
        "colab_type": "code",
        "colab": {
          "base_uri": "https://localhost:8080/",
          "height": 34
        },
        "outputId": "f0a86198-8883-438c-bb67-853de597b50c"
      },
      "source": [
        "response = requests.get(url, params = api_key)\n",
        "\n",
        "response.status_code\n",
        "\n",
        "response.ok"
      ],
      "execution_count": 13,
      "outputs": [
        {
          "output_type": "execute_result",
          "data": {
            "text/plain": [
              "True"
            ]
          },
          "metadata": {
            "tags": []
          },
          "execution_count": 13
        }
      ]
    },
    {
      "cell_type": "code",
      "metadata": {
        "id": "CZAzmXADxGm_",
        "colab_type": "code",
        "colab": {
          "base_uri": "https://localhost:8080/",
          "height": 88
        },
        "outputId": "3f640240-5ccb-4453-e28d-867b012ff161"
      },
      "source": [
        "data = response.json()\n",
        "print(data.keys())\n",
        "print(f'Total number of repositories matching query is {data[\"info\"]}')\n",
        "print(f'Total number of repositories matching query is {data[\"records\"]}')"
      ],
      "execution_count": 17,
      "outputs": [
        {
          "output_type": "stream",
          "text": [
            "dict_keys(['info', 'records'])\n",
            "Total number of repositories matching query is {'totalrecordsperquery': 10, 'totalrecords': 234237, 'pages': 23424, 'page': 1, 'next': 'https://api.harvardartmuseums.org/object?apikey=af38a5b0-7f83-11ea-ad66-f134bf9c05fa&page=2'}\n",
            "Total number of repositories matching query is [{'accessionyear': None, 'technique': 'Mezzotint', 'mediacount': 0, 'edition': 'Bohn', 'totalpageviews': 2, 'groupcount': 0, 'people': [{'alphasort': 'Constable, John', 'birthplace': 'E. Bergholt, England', 'name': 'John Constable', 'prefix': None, 'personid': 33277, 'gender': 'male', 'role': 'Artist', 'displayorder': 1, 'culture': 'British', 'displaydate': '1776 - 1837', 'deathplace': 'London, England', 'displayname': 'John Constable'}, {'alphasort': 'Lucas, David', 'birthplace': None, 'name': 'David Lucas', 'prefix': None, 'personid': 27287, 'gender': 'male', 'role': 'Artist', 'displayorder': 2, 'culture': 'British', 'displaydate': '1802 - 1881', 'deathplace': None, 'displayname': 'David Lucas'}, {'alphasort': 'Constable, John', 'birthplace': 'E. Bergholt, England', 'name': 'John Constable', 'prefix': 'After', 'personid': 33277, 'gender': 'male', 'role': 'Artist after', 'displayorder': 3, 'culture': 'British', 'displaydate': '1776 - 1837', 'deathplace': 'London, England', 'displayname': 'After John Constable'}], 'objectnumber': '74.2004.28', 'colorcount': 9, 'lastupdate': '2020-04-15T06:23:34-0400', 'rank': 47466, 'imagecount': 1, 'description': None, 'dateoflastpageview': '2012-09-10', 'dateoffirstpageview': '2009-06-23', 'primaryimageurl': 'https://nrs.harvard.edu/urn-3:HUAM:INV202099_dynmc', 'colors': [{'percent': 0.21339622641509, 'spectrum': '#8c5fa8', 'color': '#afafaf', 'css3': '#a9a9a9', 'hue': 'Grey'}, {'percent': 0.15584905660377, 'spectrum': '#8c5fa8', 'color': '#c8c8c8', 'css3': '#c0c0c0', 'hue': 'Grey'}, {'percent': 0.12094339622642, 'spectrum': '#8761aa', 'color': '#969696', 'css3': '#a9a9a9', 'hue': 'Grey'}, {'percent': 0.11352201257862, 'spectrum': '#2eb45d', 'color': '#323232', 'css3': '#2f4f4f', 'hue': 'Grey'}, {'percent': 0.11119496855346, 'spectrum': '#e9715f', 'color': '#e1e1c8', 'css3': '#dcdcdc', 'hue': 'Green'}, {'percent': 0.10547169811321, 'spectrum': '#8362aa', 'color': '#7d7d7d', 'css3': '#808080', 'hue': 'Grey'}, {'percent': 0.081509433962264, 'spectrum': '#3db657', 'color': '#4b4b4b', 'css3': '#2f4f4f', 'hue': 'Grey'}, {'percent': 0.060062893081761, 'spectrum': '#7866ad', 'color': '#646464', 'css3': '#696969', 'hue': 'Grey'}, {'percent': 0.038050314465409, 'spectrum': '#1eb264', 'color': '#191919', 'css3': '#000000', 'hue': 'Grey'}], 'dated': '1830', 'contextualtextcount': 0, 'copyright': None, 'period': None, 'accessionmethod': None, 'url': 'https://www.harvardartmuseums.org/collections/object/57989', 'provenance': None, 'images': [{'height': 726, 'iiifbaseuri': 'https://ids.lib.harvard.edu/ids/iiif/10710035', 'baseimageurl': 'https://nrs.harvard.edu/urn-3:HUAM:INV202099_dynmc', 'width': 1024, 'publiccaption': None, 'idsid': 10710035, 'displayorder': 1, 'format': 'image/jpeg', 'copyright': 'President and Fellows of Harvard College', 'imageid': 321474, 'renditionnumber': 'INV202099'}], 'publicationcount': 0, 'objectid': 57989, 'culture': 'British', 'verificationleveldescription': 'Good. Object is well described and information is vetted', 'standardreferencenumber': 'W. 4, S. 16', 'worktypes': [{'worktypeid': '278', 'worktype': 'print'}], 'department': 'Department of Prints', 'state': 'vi/vi', 'markscount': 0, 'contact': 'am_europeanamerican@harvard.edu', 'titlescount': 2, 'id': 57989, 'title': 'Noon', 'verificationlevel': 3, 'division': 'European and American Art', 'style': None, 'commentary': None, 'relatedcount': 0, 'datebegin': 1830, 'labeltext': None, 'totaluniquepageviews': 2, 'dimensions': 'plate: 18.8 x 25.5 cm (7 3/8 x 10 1/16 in.)', 'exhibitioncount': 0, 'techniqueid': 260, 'dateend': 1830, 'creditline': 'Harvard Art Museums/Fogg Museum, James Constable Collection, Loan from James Constable', 'imagepermissionlevel': 0, 'signed': 'Engraved by David Lucas', 'periodid': None, 'century': '19th century', 'classificationid': 23, 'medium': 'Mezzotint with roulette', 'peoplecount': 3, 'accesslevel': 1, 'classification': 'Prints', 'seeAlso': [{'id': 'https://iiif.harvardartmuseums.org/manifests/object/57989', 'type': 'IIIF Manifest', 'format': 'application/json', 'profile': 'http://iiif.io/api/presentation/2/context.json'}]}, {'accessionyear': None, 'technique': None, 'mediacount': 0, 'edition': None, 'totalpageviews': 20, 'groupcount': 0, 'objectnumber': '51.2004', 'colorcount': 0, 'lastupdate': '2020-04-15T06:23:34-0400', 'rank': 46765, 'imagecount': 0, 'description': None, 'dateoflastpageview': '2017-11-11', 'dateoffirstpageview': '2013-04-15', 'dated': None, 'contextualtextcount': 0, 'copyright': None, 'period': None, 'accessionmethod': None, 'url': 'https://www.harvardartmuseums.org/collections/object/57993', 'provenance': None, 'publicationcount': 0, 'objectid': 57993, 'culture': None, 'verificationleveldescription': 'Unchecked. Object information has not been verified for completeness and has not been vetted', 'standardreferencenumber': None, 'worktypes': [{'worktypeid': '71', 'worktype': 'calligraphy'}], 'department': 'Department of Islamic & Later Indian Art', 'state': None, 'markscount': 0, 'contact': 'am_asianmediterranean@harvard.edu', 'titlescount': 1, 'id': 57993, 'title': 'Sino-Islamic print of stylized Arabic calligraphy', 'verificationlevel': 0, 'division': 'Asian and Mediterranean Art', 'style': None, 'commentary': None, 'relatedcount': 0, 'datebegin': 0, 'labeltext': None, 'totaluniquepageviews': 18, 'dimensions': '13 x 26 cm (5 1/8 x 10 1/4 in.)', 'exhibitioncount': 0, 'techniqueid': None, 'dateend': 0, 'creditline': 'Harvard Art Museums/Arthur M. Sackler Museum, Loan from Harvard-Yenching Library', 'imagepermissionlevel': 0, 'signed': None, 'periodid': None, 'century': None, 'classificationid': 75, 'medium': None, 'peoplecount': 0, 'accesslevel': 1, 'classification': 'Calligraphy'}, {'accessionyear': 1924, 'technique': None, 'mediacount': 0, 'edition': None, 'totalpageviews': 40, 'groupcount': 0, 'objectnumber': '1924.65.37.D', 'colorcount': 0, 'lastupdate': '2020-04-15T06:23:34-0400', 'rank': 53083, 'imagecount': 1, 'description': None, 'dateoflastpageview': '2020-01-31', 'dateoffirstpageview': '2009-10-09', 'primaryimageurl': 'https://nrs.harvard.edu/urn-3:HUAM:CARP13691_dynmc', 'dated': None, 'contextualtextcount': 0, 'copyright': None, 'period': 'Tang dynasty, 618-907', 'accessionmethod': 'Purchase', 'url': 'https://www.harvardartmuseums.org/collections/object/58025', 'provenance': None, 'publicationcount': 0, 'images': [{'height': 891, 'iiifbaseuri': 'https://ids.lib.harvard.edu/ids/iiif/18727371', 'baseimageurl': 'https://nrs.harvard.edu/urn-3:HUAM:CARP13691_dynmc', 'width': 1024, 'publiccaption': None, 'idsid': 18727371, 'displayorder': 1, 'format': 'image/jpeg', 'copyright': 'President and Fellows of Harvard College', 'imageid': 99747, 'renditionnumber': 'CARP13691'}], 'objectid': 58025, 'culture': 'Central Asian', 'verificationleveldescription': 'Unchecked. Object information has not been verified for completeness and has not been vetted', 'standardreferencenumber': None, 'worktypes': [{'worktypeid': '268', 'worktype': 'plaque'}], 'department': 'Department of Asian Art', 'state': None, 'markscount': 0, 'contact': 'am_asianmediterranean@harvard.edu', 'titlescount': 1, 'id': 58025, 'title': 'Round Unfired Clay Plaque of a Seated Buddha', 'verificationlevel': 0, 'division': 'Asian and Mediterranean Art', 'style': None, 'commentary': None, 'relatedcount': 0, 'datebegin': 0, 'labeltext': None, 'totaluniquepageviews': 34, 'dimensions': None, 'exhibitioncount': 0, 'techniqueid': None, 'dateend': 0, 'creditline': 'Harvard Art Museums/Arthur M. Sackler Museum, First Fogg Expedition to China (1923-1924)', 'imagepermissionlevel': 0, 'signed': None, 'periodid': 372, 'century': None, 'classificationid': 60, 'medium': 'Clay, unfired', 'peoplecount': 0, 'accesslevel': 1, 'classification': 'Plaques', 'seeAlso': [{'id': 'https://iiif.harvardartmuseums.org/manifests/object/58025', 'type': 'IIIF Manifest', 'format': 'application/json', 'profile': 'http://iiif.io/api/presentation/2/context.json'}]}, {'accessionyear': 1924, 'technique': None, 'mediacount': 0, 'edition': None, 'totalpageviews': 4, 'groupcount': 0, 'objectnumber': '1924.65.32.F', 'colorcount': 0, 'lastupdate': '2020-04-15T06:23:34-0400', 'rank': 53010, 'imagecount': 1, 'description': None, 'dateoflastpageview': '2020-03-09', 'dateoffirstpageview': '2012-10-05', 'primaryimageurl': 'https://nrs.harvard.edu/urn-3:HUAM:CARP14187_dynmc', 'dated': None, 'contextualtextcount': 0, 'copyright': None, 'period': None, 'accessionmethod': 'Purchase', 'url': 'https://www.harvardartmuseums.org/collections/object/58026', 'provenance': None, 'publicationcount': 0, 'images': [{'height': 1024, 'iiifbaseuri': 'https://ids.lib.harvard.edu/ids/iiif/18727827', 'baseimageurl': 'https://nrs.harvard.edu/urn-3:HUAM:CARP14187_dynmc', 'width': 988, 'publiccaption': None, 'idsid': 18727827, 'displayorder': 1, 'format': 'image/jpeg', 'copyright': 'President and Fellows of Harvard College', 'imageid': 50245, 'renditionnumber': 'CARP14187'}], 'objectid': 58026, 'culture': 'Central Asian', 'verificationleveldescription': 'Unchecked. Object information has not been verified for completeness and has not been vetted', 'standardreferencenumber': None, 'worktypes': [{'worktypeid': '268', 'worktype': 'plaque'}], 'department': 'Department of Asian Art', 'state': None, 'markscount': 0, 'contact': 'am_asianmediterranean@harvard.edu', 'titlescount': 1, 'id': 58026, 'title': 'Unfired Clay Plaque in the form of a Head', 'verificationlevel': 0, 'division': 'Asian and Mediterranean Art', 'style': None, 'commentary': None, 'relatedcount': 0, 'datebegin': 0, 'labeltext': None, 'totaluniquepageviews': 4, 'dimensions': None, 'exhibitioncount': 0, 'techniqueid': None, 'dateend': 0, 'creditline': 'Harvard Art Museums/Arthur M. Sackler Museum, First Fogg Expedition to China (1923-1924)', 'imagepermissionlevel': 0, 'signed': None, 'periodid': None, 'century': None, 'classificationid': 60, 'medium': 'Clay, unfired', 'peoplecount': 0, 'accesslevel': 1, 'classification': 'Plaques', 'seeAlso': [{'id': 'https://iiif.harvardartmuseums.org/manifests/object/58026', 'type': 'IIIF Manifest', 'format': 'application/json', 'profile': 'http://iiif.io/api/presentation/2/context.json'}]}, {'accessionyear': 1925, 'technique': 'Etching', 'mediacount': 0, 'edition': 'French', 'totalpageviews': 22, 'groupcount': 0, 'people': [{'alphasort': 'Piranesi, Giovanni Battista', 'birthplace': 'Mogliano Veneto, Italy', 'name': 'Giovanni Battista Piranesi', 'prefix': None, 'personid': 28089, 'gender': 'male', 'role': 'Artist', 'displayorder': 1, 'culture': 'Italian', 'displaydate': '1720 - 1778', 'deathplace': 'Rome, Italy', 'displayname': 'Giovanni Battista Piranesi'}], 'objectnumber': 'M2869.16.64', 'colorcount': 0, 'lastupdate': '2020-04-15T06:23:34-0400', 'rank': 203853, 'imagecount': 0, 'description': None, 'dateoflastpageview': '2019-11-06', 'dateoffirstpageview': '2013-01-13', 'dated': '18th century', 'contextualtextcount': 0, 'copyright': None, 'period': None, 'accessionmethod': 'Gift', 'url': 'https://www.harvardartmuseums.org/collections/object/58045', 'provenance': None, 'publicationcount': 0, 'objectid': 58045, 'culture': 'Italian', 'verificationleveldescription': 'Adequate. Object is adequately described but information may not be vetted', 'standardreferencenumber': 'Ficacci 962', 'worktypes': [{'worktypeid': '278', 'worktype': 'print'}], 'department': 'Department of Prints', 'state': None, 'markscount': 0, 'contact': 'am_europeanamerican@harvard.edu', 'titlescount': 3, 'id': 58045, 'title': 'View of the temple of Hercules at Cori', 'verificationlevel': 2, 'division': 'European and American Art', 'style': None, 'commentary': None, 'relatedcount': 1, 'datebegin': 0, 'labeltext': None, 'totaluniquepageviews': 19, 'dimensions': 'plate: 39 x 53.8 cm (15 3/8 x 21 3/16 in.)', 'exhibitioncount': 0, 'techniqueid': 116, 'dateend': 0, 'creditline': 'Harvard Art Museums/Fogg Museum, Gift of Mrs. Henry Osborne Taylor in memory of her father, William Bradley Isham', 'imagepermissionlevel': 0, 'signed': None, 'periodid': None, 'century': '18th century', 'classificationid': 23, 'medium': None, 'peoplecount': 1, 'accesslevel': 1, 'classification': 'Prints'}, {'accessionyear': 1925, 'technique': 'Etching', 'mediacount': 0, 'edition': 'French', 'totalpageviews': 11, 'groupcount': 0, 'people': [{'alphasort': 'Piranesi, Giovanni Battista', 'birthplace': 'Mogliano Veneto, Italy', 'name': 'Giovanni Battista Piranesi', 'prefix': None, 'personid': 28089, 'gender': 'male', 'role': 'Artist', 'displayorder': 1, 'culture': 'Italian', 'displaydate': '1720 - 1778', 'deathplace': 'Rome, Italy', 'displayname': 'Giovanni Battista Piranesi'}], 'objectnumber': 'M2869.16.62', 'colorcount': 0, 'lastupdate': '2020-04-15T06:23:34-0400', 'rank': 203851, 'imagecount': 0, 'description': None, 'dateoflastpageview': '2020-02-13', 'dateoffirstpageview': '2013-09-04', 'dated': '18th century', 'contextualtextcount': 0, 'copyright': None, 'period': None, 'accessionmethod': 'Gift', 'url': 'https://www.harvardartmuseums.org/collections/object/58046', 'provenance': None, 'publicationcount': 0, 'objectid': 58046, 'culture': 'Italian', 'verificationleveldescription': 'Adequate. Object is adequately described but information may not be vetted', 'standardreferencenumber': 'Ficacci 977', 'worktypes': [{'worktypeid': '278', 'worktype': 'print'}], 'department': 'Department of Prints', 'state': None, 'markscount': 0, 'contact': 'am_europeanamerican@harvard.edu', 'titlescount': 3, 'id': 58046, 'title': 'View of the temple of the Camenae', 'verificationlevel': 2, 'division': 'European and American Art', 'style': None, 'commentary': None, 'relatedcount': 1, 'datebegin': 0, 'labeltext': None, 'totaluniquepageviews': 11, 'dimensions': 'plate: 48 x 71.5 cm (18 7/8 x 28 1/8 in.)', 'exhibitioncount': 0, 'techniqueid': 116, 'dateend': 0, 'creditline': 'Harvard Art Museums/Fogg Museum, Gift of Mrs. Henry Osborne Taylor in memory of her father, William Bradley Isham', 'imagepermissionlevel': 0, 'signed': None, 'periodid': None, 'century': '18th century', 'classificationid': 23, 'medium': None, 'peoplecount': 1, 'accesslevel': 1, 'classification': 'Prints'}, {'accessionyear': 1925, 'technique': 'Etching', 'mediacount': 0, 'edition': 'French', 'totalpageviews': 3, 'groupcount': 0, 'people': [{'alphasort': 'Piranesi, Giovanni Battista', 'birthplace': 'Mogliano Veneto, Italy', 'name': 'Giovanni Battista Piranesi', 'prefix': None, 'personid': 28089, 'gender': 'male', 'role': 'Artist', 'displayorder': 1, 'culture': 'Italian', 'displaydate': '1720 - 1778', 'deathplace': 'Rome, Italy', 'displayname': 'Giovanni Battista Piranesi'}], 'objectnumber': 'M2869.16.61', 'colorcount': 0, 'lastupdate': '2020-04-15T06:23:34-0400', 'rank': 203850, 'imagecount': 0, 'description': None, 'dateoflastpageview': '2017-10-28', 'dateoffirstpageview': '2010-10-15', 'dated': '18th century', 'contextualtextcount': 0, 'copyright': None, 'period': None, 'accessionmethod': 'Gift', 'url': 'https://www.harvardartmuseums.org/collections/object/58057', 'provenance': None, 'publicationcount': 0, 'objectid': 58057, 'culture': 'Italian', 'verificationleveldescription': 'Adequate. Object is adequately described but information may not be vetted', 'standardreferencenumber': 'Ficacci 952', 'worktypes': [{'worktypeid': '278', 'worktype': 'print'}], 'department': 'Department of Prints', 'state': None, 'markscount': 0, 'contact': 'am_europeanamerican@harvard.edu', 'titlescount': 3, 'id': 58057, 'title': 'Interior view of the temple of Bacchus, now S. Urbano', 'verificationlevel': 2, 'division': 'European and American Art', 'style': None, 'commentary': None, 'relatedcount': 1, 'datebegin': 0, 'labeltext': None, 'totaluniquepageviews': 2, 'dimensions': 'plate: 43 x 61 cm (16 15/16 x 24 in.)', 'exhibitioncount': 0, 'techniqueid': 116, 'dateend': 0, 'creditline': 'Harvard Art Museums/Fogg Museum, Gift of Mrs. Henry Osborne Taylor in memory of her father, William Bradley Isham', 'imagepermissionlevel': 0, 'signed': None, 'periodid': None, 'century': '18th century', 'classificationid': 23, 'medium': None, 'peoplecount': 1, 'accesslevel': 1, 'classification': 'Prints'}, {'accessionyear': 1924, 'technique': None, 'mediacount': 0, 'edition': None, 'totalpageviews': 12, 'groupcount': 0, 'objectnumber': '1924.65.37.J', 'colorcount': 0, 'lastupdate': '2020-04-15T06:23:34-0400', 'rank': 53089, 'imagecount': 1, 'description': None, 'dateoflastpageview': '2020-03-05', 'dateoffirstpageview': '2009-10-09', 'primaryimageurl': 'https://nrs.harvard.edu/urn-3:HUAM:CARP13685_dynmc', 'dated': None, 'contextualtextcount': 0, 'copyright': None, 'period': 'Tang dynasty, 618-907', 'accessionmethod': 'Purchase', 'url': 'https://www.harvardartmuseums.org/collections/object/58061', 'provenance': None, 'publicationcount': 0, 'images': [{'height': 840, 'iiifbaseuri': 'https://ids.lib.harvard.edu/ids/iiif/18727365', 'baseimageurl': 'https://nrs.harvard.edu/urn-3:HUAM:CARP13685_dynmc', 'width': 1024, 'publiccaption': None, 'idsid': 18727365, 'displayorder': 1, 'format': 'image/jpeg', 'copyright': 'President and Fellows of Harvard College', 'imageid': 50132, 'renditionnumber': 'CARP13685'}], 'objectid': 58061, 'culture': 'Central Asian', 'verificationleveldescription': 'Unchecked. Object information has not been verified for completeness and has not been vetted', 'standardreferencenumber': None, 'worktypes': [{'worktypeid': '268', 'worktype': 'plaque'}], 'department': 'Department of Asian Art', 'state': None, 'markscount': 0, 'contact': 'am_asianmediterranean@harvard.edu', 'titlescount': 1, 'id': 58061, 'title': 'Round Unfired Clay Plaque of a Seated Buddha', 'verificationlevel': 0, 'division': 'Asian and Mediterranean Art', 'style': None, 'commentary': None, 'relatedcount': 0, 'datebegin': 0, 'labeltext': None, 'totaluniquepageviews': 9, 'dimensions': None, 'exhibitioncount': 0, 'techniqueid': None, 'dateend': 0, 'creditline': 'Harvard Art Museums/Arthur M. Sackler Museum, First Fogg Expedition to China (1923-1924)', 'imagepermissionlevel': 0, 'signed': None, 'periodid': 372, 'century': None, 'classificationid': 60, 'medium': 'Clay, unfired', 'peoplecount': 0, 'accesslevel': 1, 'classification': 'Plaques', 'seeAlso': [{'id': 'https://iiif.harvardartmuseums.org/manifests/object/58061', 'type': 'IIIF Manifest', 'format': 'application/json', 'profile': 'http://iiif.io/api/presentation/2/context.json'}]}, {'accessionyear': 1938, 'technique': 'Engraving', 'mediacount': 0, 'edition': None, 'totalpageviews': 68, 'groupcount': 0, 'people': [{'alphasort': 'Rousseau, Jean Francois', 'birthplace': None, 'name': 'Jean Francois Rousseau', 'prefix': None, 'personid': 30863, 'gender': 'unknown', 'role': 'Artist', 'displayorder': 1, 'culture': 'French', 'displaydate': '1740 - ', 'deathplace': None, 'displayname': 'Jean Francois Rousseau'}, {'alphasort': 'Gravelot, Hubert François Bourguignon', 'birthplace': 'Paris', 'name': 'Hubert François Bourguignon Gravelot', 'prefix': 'After', 'personid': 23333, 'gender': 'male', 'role': 'Artist after', 'displayorder': 2, 'culture': 'French', 'displaydate': '1699 - 1773', 'deathplace': 'Paris', 'displayname': 'After Hubert François Bourguignon Gravelot'}], 'objectnumber': 'M9138', 'colorcount': 7, 'lastupdate': '2020-04-15T06:23:34-0400', 'rank': 210366, 'imagecount': 1, 'description': None, 'dateoflastpageview': '2020-03-28', 'dateoffirstpageview': '2015-03-04', 'primaryimageurl': 'https://nrs.harvard.edu/urn-3:HUAM:INV183308_dynmc', 'colors': [{'percent': 0.38433656957929, 'spectrum': '#b55592', 'color': '#c8c8af', 'css3': '#c0c0c0', 'hue': 'Green'}, {'percent': 0.28097087378641, 'spectrum': '#e66c64', 'color': '#c8af96', 'css3': '#d2b48c', 'hue': 'Brown'}, {'percent': 0.11443365695793, 'spectrum': '#c25687', 'color': '#af967d', 'css3': '#bc8f8f', 'hue': 'Brown'}, {'percent': 0.080906148867314, 'spectrum': '#6cbd45', 'color': '#7d7d64', 'css3': '#808080', 'hue': 'Yellow'}, {'percent': 0.073074433656958, 'spectrum': '#59ba4a', 'color': '#64644b', 'css3': '#696969', 'hue': 'Green'}, {'percent': 0.035404530744337, 'spectrum': '#2eb45d', 'color': '#323232', 'css3': '#2f4f4f', 'hue': 'Grey'}, {'percent': 0.030873786407767, 'spectrum': '#4ab851', 'color': '#4b4b32', 'css3': '#556b2f', 'hue': 'Green'}], 'dated': 'c. 1771', 'contextualtextcount': 0, 'copyright': None, 'period': None, 'accessionmethod': 'Gift', 'url': 'https://www.harvardartmuseums.org/collections/object/58075', 'provenance': None, 'images': [{'height': 1024, 'iiifbaseuri': 'https://ids.lib.harvard.edu/ids/iiif/20489421', 'baseimageurl': 'https://nrs.harvard.edu/urn-3:HUAM:INV183308_dynmc', 'width': 709, 'publiccaption': None, 'idsid': 20489421, 'displayorder': 1, 'format': 'image/jpeg', 'copyright': 'President and Fellows of Harvard College', 'imageid': 298529, 'renditionnumber': 'INV183308'}], 'publicationcount': 0, 'objectid': 58075, 'culture': 'French', 'verificationleveldescription': 'Good. Object is well described and information is vetted', 'standardreferencenumber': None, 'worktypes': [{'worktypeid': '278', 'worktype': 'print'}], 'department': 'Department of Prints', 'state': None, 'markscount': 0, 'contact': 'am_europeanamerican@harvard.edu', 'titlescount': 3, 'id': 58075, 'title': 'Scene from Voltaire\\'s \"La mort de Cesar\"', 'verificationlevel': 3, 'division': 'European and American Art', 'style': None, 'commentary': None, 'relatedcount': 0, 'datebegin': 1766, 'labeltext': None, 'totaluniquepageviews': 60, 'dimensions': 'design: 18.3 x 13.4 cm (7 3/16 x 5 1/4 in.)', 'exhibitioncount': 0, 'techniqueid': 98, 'dateend': 1776, 'creditline': 'Harvard Art Museums/Fogg Museum, Gift of W. G. Russell Allen and Paul J. Sachs', 'imagepermissionlevel': 0, 'signed': 'J.F. Rousseau Sculp.', 'periodid': None, 'century': '18th century', 'classificationid': 23, 'medium': None, 'peoplecount': 2, 'accesslevel': 1, 'classification': 'Prints', 'seeAlso': [{'id': 'https://iiif.harvardartmuseums.org/manifests/object/58075', 'type': 'IIIF Manifest', 'format': 'application/json', 'profile': 'http://iiif.io/api/presentation/2/context.json'}]}, {'accessionyear': 1924, 'technique': None, 'mediacount': 0, 'edition': None, 'totalpageviews': 9, 'groupcount': 0, 'objectnumber': '1924.65.37.L', 'colorcount': 0, 'lastupdate': '2020-04-15T06:23:34-0400', 'rank': 53091, 'imagecount': 1, 'description': None, 'dateoflastpageview': '2016-04-19', 'dateoffirstpageview': '2009-10-09', 'primaryimageurl': 'https://nrs.harvard.edu/urn-3:HUAM:CARP13683_dynmc', 'dated': None, 'contextualtextcount': 0, 'copyright': None, 'period': 'Tang dynasty, 618-907', 'accessionmethod': 'Purchase', 'url': 'https://www.harvardartmuseums.org/collections/object/58077', 'provenance': None, 'publicationcount': 0, 'images': [{'height': 840, 'iiifbaseuri': 'https://ids.lib.harvard.edu/ids/iiif/18727363', 'baseimageurl': 'https://nrs.harvard.edu/urn-3:HUAM:CARP13683_dynmc', 'width': 1024, 'publiccaption': None, 'idsid': 18727363, 'displayorder': 1, 'format': 'image/jpeg', 'copyright': 'President and Fellows of Harvard College', 'imageid': 50130, 'renditionnumber': 'CARP13683'}], 'objectid': 58077, 'culture': 'Central Asian', 'verificationleveldescription': 'Unchecked. Object information has not been verified for completeness and has not been vetted', 'standardreferencenumber': None, 'worktypes': [{'worktypeid': '268', 'worktype': 'plaque'}], 'department': 'Department of Asian Art', 'state': None, 'markscount': 0, 'contact': 'am_asianmediterranean@harvard.edu', 'titlescount': 1, 'id': 58077, 'title': 'Round Unfired Clay Plaque of a Seated Buddha', 'verificationlevel': 0, 'division': 'Asian and Mediterranean Art', 'style': None, 'commentary': None, 'relatedcount': 0, 'datebegin': 0, 'labeltext': None, 'totaluniquepageviews': 5, 'dimensions': None, 'exhibitioncount': 0, 'techniqueid': None, 'dateend': 0, 'creditline': 'Harvard Art Museums/Arthur M. Sackler Museum, First Fogg Expedition to China (1923-1924)', 'imagepermissionlevel': 0, 'signed': None, 'periodid': 372, 'century': None, 'classificationid': 60, 'medium': 'Clay, unfired', 'peoplecount': 0, 'accesslevel': 1, 'classification': 'Plaques', 'seeAlso': [{'id': 'https://iiif.harvardartmuseums.org/manifests/object/58077', 'type': 'IIIF Manifest', 'format': 'application/json', 'profile': 'http://iiif.io/api/presentation/2/context.json'}]}]\n"
          ],
          "name": "stdout"
        }
      ]
    },
    {
      "cell_type": "code",
      "metadata": {
        "id": "2ADDUk7Qzz3V",
        "colab_type": "code",
        "colab": {
          "base_uri": "https://localhost:8080/",
          "height": 351
        },
        "outputId": "b96ea63d-299b-4989-d0d4-be508464e5d2"
      },
      "source": [
        "raw_data = data[\"records\"]\n",
        "\n",
        "people = [{\n",
        "      'name': people['name'],\n",
        "      'birthplace': people ['birthplace'],\n",
        "      'culture': people ['culture']\n",
        "} for people in raw_data]\n",
        "      \n",
        "\n",
        "print(people [:5])"
      ],
      "execution_count": 25,
      "outputs": [
        {
          "output_type": "error",
          "ename": "KeyError",
          "evalue": "ignored",
          "traceback": [
            "\u001b[0;31m---------------------------------------------------------------------------\u001b[0m",
            "\u001b[0;31mKeyError\u001b[0m                                  Traceback (most recent call last)",
            "\u001b[0;32m<ipython-input-25-290995385ee9>\u001b[0m in \u001b[0;36m<module>\u001b[0;34m()\u001b[0m\n\u001b[1;32m      5\u001b[0m       \u001b[0;34m'birthplace'\u001b[0m\u001b[0;34m:\u001b[0m \u001b[0mpeople\u001b[0m \u001b[0;34m[\u001b[0m\u001b[0;34m'birthplace'\u001b[0m\u001b[0;34m]\u001b[0m\u001b[0;34m,\u001b[0m\u001b[0;34m\u001b[0m\u001b[0;34m\u001b[0m\u001b[0m\n\u001b[1;32m      6\u001b[0m       \u001b[0;34m'culture'\u001b[0m\u001b[0;34m:\u001b[0m \u001b[0mpeople\u001b[0m \u001b[0;34m[\u001b[0m\u001b[0;34m'culture'\u001b[0m\u001b[0;34m]\u001b[0m\u001b[0;34m\u001b[0m\u001b[0;34m\u001b[0m\u001b[0m\n\u001b[0;32m----> 7\u001b[0;31m } for people in raw_data]\n\u001b[0m\u001b[1;32m      8\u001b[0m \u001b[0;34m\u001b[0m\u001b[0m\n\u001b[1;32m      9\u001b[0m \u001b[0;34m\u001b[0m\u001b[0m\n",
            "\u001b[0;32m<ipython-input-25-290995385ee9>\u001b[0m in \u001b[0;36m<listcomp>\u001b[0;34m(.0)\u001b[0m\n\u001b[1;32m      5\u001b[0m       \u001b[0;34m'birthplace'\u001b[0m\u001b[0;34m:\u001b[0m \u001b[0mpeople\u001b[0m \u001b[0;34m[\u001b[0m\u001b[0;34m'birthplace'\u001b[0m\u001b[0;34m]\u001b[0m\u001b[0;34m,\u001b[0m\u001b[0;34m\u001b[0m\u001b[0;34m\u001b[0m\u001b[0m\n\u001b[1;32m      6\u001b[0m       \u001b[0;34m'culture'\u001b[0m\u001b[0;34m:\u001b[0m \u001b[0mpeople\u001b[0m \u001b[0;34m[\u001b[0m\u001b[0;34m'culture'\u001b[0m\u001b[0;34m]\u001b[0m\u001b[0;34m\u001b[0m\u001b[0;34m\u001b[0m\u001b[0m\n\u001b[0;32m----> 7\u001b[0;31m } for people in raw_data]\n\u001b[0m\u001b[1;32m      8\u001b[0m \u001b[0;34m\u001b[0m\u001b[0m\n\u001b[1;32m      9\u001b[0m \u001b[0;34m\u001b[0m\u001b[0m\n",
            "\u001b[0;31mKeyError\u001b[0m: 'name'"
          ]
        }
      ]
    }
  ]
}