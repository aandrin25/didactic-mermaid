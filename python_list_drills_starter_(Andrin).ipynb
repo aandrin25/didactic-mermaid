{
  "nbformat": 4,
  "nbformat_minor": 0,
  "metadata": {
    "kernelspec": {
      "display_name": "Python 3",
      "language": "python",
      "name": "python3"
    },
    "language_info": {
      "codemirror_mode": {
        "name": "ipython",
        "version": 3
      },
      "file_extension": ".py",
      "mimetype": "text/x-python",
      "name": "python",
      "nbconvert_exporter": "python",
      "pygments_lexer": "ipython3",
      "version": "3.7.0"
    },
    "colab": {
      "name": "python_list_drills_starter (Andrin)",
      "provenance": [],
      "include_colab_link": true
    }
  },
  "cells": [
    {
      "cell_type": "markdown",
      "metadata": {
        "id": "view-in-github",
        "colab_type": "text"
      },
      "source": [
        "<a href=\"https://colab.research.google.com/github/aandrin25/didactic-mermaid/blob/master/python_list_drills_starter_(Andrin).ipynb\" target=\"_parent\"><img src=\"https://colab.research.google.com/assets/colab-badge.svg\" alt=\"Open In Colab\"/></a>"
      ]
    },
    {
      "cell_type": "markdown",
      "metadata": {
        "id": "fNZ2MSu6hTO2",
        "colab_type": "text"
      },
      "source": [
        "## 1: `longest_word_length`\n",
        "\n",
        "Create a function called `longest_word` that takes one argument, a list of words, and returns the length of the longest word in the list.\n",
        "\n",
        "For example, `longest_word(['simple', 'is', 'better', 'than', 'complex'])` should return 7 because the longest word there is complex, at 7 characters.\n",
        "\n",
        "Your function should *not* modify the input list."
      ]
    },
    {
      "cell_type": "code",
      "metadata": {
        "id": "Ym3sku_ZhTO3",
        "colab_type": "code",
        "colab": {
          "base_uri": "https://localhost:8080/",
          "height": 34
        },
        "outputId": "c8a76f7b-93f1-4941-d3d3-99d21d5fa885"
      },
      "source": [
        "# your code here\n",
        "def longest_word(example):\n",
        "  example.sort(key=len, reverse=True)\n",
        "  return len(example[0])\n",
        "\n",
        "print(longest_word(['simple', 'is', 'better', 'than', 'complex']))\n"
      ],
      "execution_count": 16,
      "outputs": [
        {
          "output_type": "stream",
          "text": [
            "7\n"
          ],
          "name": "stdout"
        }
      ]
    },
    {
      "cell_type": "code",
      "metadata": {
        "id": "mAaKat0sQ7Ov",
        "colab_type": "code",
        "colab": {
          "base_uri": "https://localhost:8080/",
          "height": 34
        },
        "outputId": "7df17daf-af30-4211-8124-f97f5e487764"
      },
      "source": [
        "example = ['simple', 'is', 'better', 'than', 'complex']\n",
        "print(example[0])"
      ],
      "execution_count": 7,
      "outputs": [
        {
          "output_type": "stream",
          "text": [
            "simple\n"
          ],
          "name": "stdout"
        }
      ]
    },
    {
      "cell_type": "markdown",
      "metadata": {
        "id": "72YxVP9jhTO7",
        "colab_type": "text"
      },
      "source": [
        "## 2: `calculate_grade`\n",
        "\n",
        "You're a statistics professor and the deadline for submitting your students' grades is tonight at midnight. Each student's grade is determined by their mean score across all of the tests they took this semester.\n",
        "\n",
        "You've decided to automate grade calculation by writing a function `calculate_grade` that takes a list of test scores as an argument and returns a one character string representing the student's grade calculated as follows:\n",
        "\n",
        "```\n",
        "90% <= mean score <= 100%: \"A\",\n",
        "80% <= mean score < 90%: \"B\",\n",
        "70% <= mean score < 80%: \"C\",\n",
        "60% <= mean score < 70%: \"D\",\n",
        "mean score < 60%: \"F\"\n",
        "```\n",
        "\n",
        "\n",
        "For example, `calculate_grade([92, 94, 99])` would return \"A\" since the mean score is 95, and `calculate_grade([50, 60, 70, 80, 90])` would return \"C\" since the mean score is 70.\n",
        "\n",
        "Your function should handle an input list of any length greater than zero."
      ]
    },
    {
      "cell_type": "code",
      "metadata": {
        "id": "BhcD0csShTO7",
        "colab_type": "code",
        "colab": {
          "base_uri": "https://localhost:8080/",
          "height": 34
        },
        "outputId": "78bda500-6261-4060-b2a5-e143ce7dfa22"
      },
      "source": [
        "# your code here\n",
        "def calculate_grade(list):\n",
        "  if 90 <= mean_score(list) <= 100:\n",
        "    return 'A'\n",
        "  elif 80 <= mean_score(list) < 90: \n",
        "    return 'B'\n",
        "  elif 70 <= mean_score(list) < 80: \n",
        "    return 'C'\n",
        "  elif 60 <= mean_score(list) < 70: \n",
        "    return 'D'\n",
        "  else:\n",
        "    return 'F'\n",
        "\n",
        "calculate_grade(example2)\n",
        "\n",
        "example3 = [50, 60, 70, 80, 90]\n",
        "\n",
        "calculate_grade(example3)"
      ],
      "execution_count": 22,
      "outputs": [
        {
          "output_type": "execute_result",
          "data": {
            "text/plain": [
              "'C'"
            ]
          },
          "metadata": {
            "tags": []
          },
          "execution_count": 22
        }
      ]
    },
    {
      "cell_type": "code",
      "metadata": {
        "id": "Mxr2Q46DTfnq",
        "colab_type": "code",
        "colab": {
          "base_uri": "https://localhost:8080/",
          "height": 34
        },
        "outputId": "bce814ef-e034-4f7a-f9cd-fd838a45a2c6"
      },
      "source": [
        "example2 = [92, 94, 99]\n",
        "def mean_score(list):\n",
        "  return (sum(list))/(len(list))\n",
        "\n",
        "mean_score(example2)\n"
      ],
      "execution_count": 19,
      "outputs": [
        {
          "output_type": "execute_result",
          "data": {
            "text/plain": [
              "95.0"
            ]
          },
          "metadata": {
            "tags": []
          },
          "execution_count": 19
        }
      ]
    },
    {
      "cell_type": "markdown",
      "metadata": {
        "id": "dclxxGQ_hTO-",
        "colab_type": "text"
      },
      "source": [
        "## 3: `process_data`\n",
        "\n",
        "You have a two-dimensional list in the following format:\n",
        "\n",
        "```python\n",
        "data = [[2, 5], [3, 4], [8, 7]]\n",
        "```\n",
        "\n",
        "Each sub-list contains two items, and each item in the sub-lists is an integer.\n",
        "\n",
        "Write a function `process_data` that processes each sub-list like so:\n",
        "\n",
        "```\n",
        "[2, 5] --> 2 - 5 --> -3\n",
        "[3, 4] --> 3 - 4 --> -1\n",
        "[8, 7] --> 8 - 7 --> 1\n",
        "```\n",
        "\n",
        "and then returns the product of all the processed sub-lists: -3 * -1 * 1 --> 3.\n",
        "d\n",
        "For input, you can trust that neither the main list nor the sublists will be empty."
      ]
    },
    {
      "cell_type": "code",
      "metadata": {
        "id": "zxbzIzzChTO_",
        "colab_type": "code",
        "colab": {
          "base_uri": "https://localhost:8080/",
          "height": 85
        },
        "outputId": "e12e11ef-8a14-4fc1-c1ff-342ab8581039"
      },
      "source": [
        "# your code here\n",
        "def process_data(list):\n",
        "  for sub_sets in list:\n",
        "    difference = sub_sets[0] - sub_sets[1]\n",
        "    differences.append(difference,)\n",
        "    print(differences)\n",
        "  return differences[0] * differences[1] * differences[2]\n",
        "\n",
        "\n",
        "\n",
        "data = [[2, 5], [3, 4], [8, 7]]\n",
        "process_data(data)"
      ],
      "execution_count": 68,
      "outputs": [
        {
          "output_type": "stream",
          "text": [
            "[-3]\n",
            "[-3, -1]\n",
            "[-3, -1, 1]\n"
          ],
          "name": "stdout"
        },
        {
          "output_type": "execute_result",
          "data": {
            "text/plain": [
              "3"
            ]
          },
          "metadata": {
            "tags": []
          },
          "execution_count": 68
        }
      ]
    },
    {
      "cell_type": "code",
      "metadata": {
        "id": "jkaI6D6nYnk7",
        "colab_type": "code",
        "colab": {
          "base_uri": "https://localhost:8080/",
          "height": 34
        },
        "outputId": "a716dc1b-43b1-4580-86a6-b5b95bc771b0"
      },
      "source": [
        "differences = [][0:3]\n",
        "print(type(differences))\n"
      ],
      "execution_count": 67,
      "outputs": [
        {
          "output_type": "stream",
          "text": [
            "<class 'list'>\n"
          ],
          "name": "stdout"
        }
      ]
    }
  ]
}