{
  "nbformat": 4,
  "nbformat_minor": 0,
  "metadata": {
    "colab": {
      "name": "Web Scraping (ANDRIN)",
      "provenance": [],
      "authorship_tag": "ABX9TyO0yPz5D8p74FGJP2u9zU7A",
      "include_colab_link": true
    },
    "kernelspec": {
      "name": "python3",
      "display_name": "Python 3"
    }
  },
  "cells": [
    {
      "cell_type": "markdown",
      "metadata": {
        "id": "view-in-github",
        "colab_type": "text"
      },
      "source": [
        "<a href=\"https://colab.research.google.com/github/aandrin25/didactic-mermaid/blob/master/Web_Scraping_(ANDRIN).ipynb\" target=\"_parent\"><img src=\"https://colab.research.google.com/assets/colab-badge.svg\" alt=\"Open In Colab\"/></a>"
      ]
    },
    {
      "cell_type": "code",
      "metadata": {
        "id": "KAHGnIS1NogY",
        "colab_type": "code",
        "colab": {}
      },
      "source": [
        "import requests\n",
        "\n",
        "url = 'https://www.space.com/news'\n",
        "\n",
        "response = requests.get(url)\n",
        "\n",
        "# make sure we got a valid response\n",
        "if(response.ok):\n",
        "# get the full data from the response\n",
        "  data = response.text\n",
        "\n",
        "from bs4 import BeautifulSoup\n",
        "soup = BeautifulSoup(data, 'html.parser')\n",
        "\n"
      ],
      "execution_count": 0,
      "outputs": []
    }
  ]
}